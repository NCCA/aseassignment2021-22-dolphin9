{
 "cells": [
  {
   "cell_type": "code",
   "execution_count": null,
   "metadata": {},
   "outputs": [],
   "source": [
    "import torch\n",
    "from matplotlib import pyplot as plt"
   ]
  },
  {
   "cell_type": "code",
   "execution_count": null,
   "metadata": {},
   "outputs": [],
   "source": [
    "video_dir = 'datasets/mp4/'\n",
    "json_dir = 'datasets/data/'\n",
    "label_dir = 'datasets/cfg/'\n",
    "list_file = 'datafiles.txt'"
   ]
  },
  {
   "cell_type": "code",
   "execution_count": null,
   "metadata": {},
   "outputs": [],
   "source": [
    "import numpy as np\n",
    "import pandas as pd\n",
    "import os\n",
    "with open(list_file,'w') as datafiles:\n",
    "    filelist = os.listdir(video_dir)\n",
    "    for i in filelist:\n",
    "        datafiles.write(i[:-4]+',')"
   ]
  },
  {
   "cell_type": "code",
   "execution_count": null,
   "metadata": {},
   "outputs": [],
   "source": [
    "filelist = []\n",
    "with open(list_file,'r') as file:\n",
    "    line = file.readline()\n",
    "    filelist = line.split(',')"
   ]
  },
  {
   "cell_type": "code",
   "execution_count": null,
   "metadata": {},
   "outputs": [],
   "source": [
    "import cv2 as cv\n",
    "\n",
    "cap = cv.VideoCapture(video_dir + filelist[0]+'.mp4')\n",
    "\n",
    "motion = []\n",
    "\n",
    "while cap.isOpened():\n",
    "    ret, frame = cap.read()\n",
    "    if not ret:\n",
    "        print(\"Can't receive frame (stream end?). Exiting ...\")\n",
    "        break\n",
    "    img = cv.cvtColor(frame, cv.COLOR_BGR2GRAY)\n",
    "    motion.append(img)\n",
    "\n",
    "    cv.imshow('frame', img)\n",
    "    if cv.waitKey(1) == ord('q'):\n",
    "        break\n",
    "cap.release()\n",
    "cv.waitKey()\n",
    "cv.destroyAllWindows()\n"
   ]
  },
  {
   "cell_type": "code",
   "execution_count": null,
   "metadata": {},
   "outputs": [],
   "source": [
    "plt.imshow(motion[0],cmap='gray')"
   ]
  },
  {
   "cell_type": "code",
   "execution_count": null,
   "metadata": {},
   "outputs": [],
   "source": [
    "cv.imwrite('temp.png', motion[0])\n",
    "img = cv.imread(\"temp.png\")\n",
    "#plt.imshow(img,cmap='gray')\n",
    "#print(type(img))\n",
    "#print(img)\n"
   ]
  },
  {
   "cell_type": "code",
   "execution_count": null,
   "metadata": {},
   "outputs": [],
   "source": [
    "PaddingImage = np.pad(motion[0],((1,1),(1,1)))\n",
    "plt.imshow(PaddingImage,cmap='gray')\n",
    "PaddingImage"
   ]
  },
  {
   "cell_type": "code",
   "execution_count": null,
   "metadata": {},
   "outputs": [],
   "source": [
    "#Con_kernel = [1,1,1,1,1,1,1,1,1]\n",
    "#Con_kernel = [1,1,1,1,2,1,1,1,1] #sharper\n",
    "Con_kernel = [1,2,1,2,4,2,1,2,1]\n",
    "\n",
    "#Con_kernel = [0,-1,0,-1,5,-1,0,-1,0]\n",
    "#Con_kernel = [-1,-1,-1,-1,9,-1,-1,-1,-1] \n",
    "#Con_kernel = [1,-2,1,-2,5,-2,1,-2,1] \n",
    "\n",
    "#Con_kernel = [-1,0,-1,0,4,0,-1,0,-1]\n",
    "#Con_kernel = [-1,-1,-1,-1,8,-1,-1,-1,-1]\n",
    "\n",
    "#Con_kernel = [-1,0,1,-2,0,2,-1,0,1]\n",
    "#Con_kernel = [1,2,1,0,0,0,-1,-2,-1]\n",
    "#Con_kernel = [2,1,0,1,0,-1,0,-1,-2]"
   ]
  },
  {
   "cell_type": "code",
   "execution_count": null,
   "metadata": {},
   "outputs": [],
   "source": [
    "print(PaddingImage.shape)\n",
    "img_width = PaddingImage.shape[0]\n",
    "img_height =PaddingImage.shape[1]\n",
    "print(img_width,img_height)"
   ]
  },
  {
   "cell_type": "code",
   "execution_count": null,
   "metadata": {},
   "outputs": [],
   "source": [
    "Pixel_list = []\n",
    "tmp = [[-1,-1],[-1, 0],[-1, 1],\n",
    "       [ 0,-1],[ 0, 0],[ 0, 1],\n",
    "       [ 1,-1],[ 1, 0],[ 1, 1]]\n",
    "\n",
    "for i in range(1,img_width):\n",
    "    for j in range(1,img_height):\n",
    "        neighbourlist = []\n",
    "        for k in range(0,9):\n",
    "            neighbourlist.append(PaddingGreyTestImage[i+tmp[k][0]][j+tmp[k][1]] * Con_kernel[k])\n",
    "        Pixel_list.append(sum(neighbourlist))\n",
    "\n",
    "conv_image = np.array(Pixel_list).reshape(512,512)"
   ]
  },
  {
   "cell_type": "code",
   "execution_count": 1,
   "metadata": {},
   "outputs": [],
   "source": [
    "from BandaiDataset import BandaiDataset \n",
    "\n",
    "data = BandaiDataset()"
   ]
  },
  {
   "cell_type": "code",
   "execution_count": 2,
   "metadata": {},
   "outputs": [
    {
     "ename": "AttributeError",
     "evalue": "'Motion' object has no attribute 'video_dir'",
     "output_type": "error",
     "traceback": [
      "\u001b[0;31m---------------------------------------------------------------------------\u001b[0m",
      "\u001b[0;31mAttributeError\u001b[0m                            Traceback (most recent call last)",
      "Cell \u001b[0;32mIn[2], line 1\u001b[0m\n\u001b[0;32m----> 1\u001b[0m data\u001b[39m.\u001b[39;49mload()\n",
      "File \u001b[0;32m~/software engineering/assignment/aseassignment2021-22-dolphin9/BandaiDataset.py:68\u001b[0m, in \u001b[0;36mBandaiDataset.load\u001b[0;34m(self)\u001b[0m\n\u001b[1;32m     66\u001b[0m \u001b[39mfor\u001b[39;00m filename \u001b[39min\u001b[39;00m \u001b[39mself\u001b[39m\u001b[39m.\u001b[39mfilelist:\n\u001b[1;32m     67\u001b[0m     motion \u001b[39m=\u001b[39m Motion()\n\u001b[0;32m---> 68\u001b[0m     \u001b[39mself\u001b[39m\u001b[39m.\u001b[39mmotion_list\u001b[39m.\u001b[39mappend(motion\u001b[39m.\u001b[39;49mcap_frames(filename))\n\u001b[1;32m     69\u001b[0m     \u001b[39m#self.label_list.append(pd.read_json(self.json_dir+filename))\u001b[39;00m\n\u001b[1;32m     70\u001b[0m     \u001b[39mself\u001b[39m\u001b[39m.\u001b[39mnum_of_files \u001b[39m+\u001b[39m\u001b[39m=\u001b[39m \u001b[39m1\u001b[39m\n",
      "File \u001b[0;32m~/software engineering/assignment/aseassignment2021-22-dolphin9/BandaiDataset.py:19\u001b[0m, in \u001b[0;36mMotion.cap_frames\u001b[0;34m(self, filename)\u001b[0m\n\u001b[1;32m     17\u001b[0m \u001b[39mdef\u001b[39;00m \u001b[39mcap_frames\u001b[39m(\u001b[39mself\u001b[39m,filename):\n\u001b[0;32m---> 19\u001b[0m     cap \u001b[39m=\u001b[39m cv\u001b[39m.\u001b[39mVideoCapture(\u001b[39mself\u001b[39;49m\u001b[39m.\u001b[39;49mvideo_dir \u001b[39m+\u001b[39m filename \u001b[39m+\u001b[39m\u001b[39m'\u001b[39m\u001b[39m.mp4\u001b[39m\u001b[39m'\u001b[39m)\n\u001b[1;32m     20\u001b[0m     \u001b[39mself\u001b[39m\u001b[39m.\u001b[39mpose_list \u001b[39m=\u001b[39m []\n\u001b[1;32m     22\u001b[0m     \u001b[39mwhile\u001b[39;00m cap\u001b[39m.\u001b[39misOpened():\n",
      "\u001b[0;31mAttributeError\u001b[0m: 'Motion' object has no attribute 'video_dir'"
     ]
    }
   ],
   "source": [
    "data.load()"
   ]
  },
  {
   "cell_type": "code",
   "execution_count": 4,
   "metadata": {},
   "outputs": [
    {
     "ename": "NameError",
     "evalue": "name 'plt' is not defined",
     "output_type": "error",
     "traceback": [
      "\u001b[0;31m---------------------------------------------------------------------------\u001b[0m",
      "\u001b[0;31mNameError\u001b[0m                                 Traceback (most recent call last)",
      "Cell \u001b[0;32mIn[4], line 1\u001b[0m\n\u001b[0;32m----> 1\u001b[0m plt\u001b[39m.\u001b[39mimshow(data[\u001b[39m1\u001b[39m][\u001b[39m0\u001b[39m],cmap\u001b[39m=\u001b[39m\u001b[39m'\u001b[39m\u001b[39mgray\u001b[39m\u001b[39m'\u001b[39m)\n",
      "\u001b[0;31mNameError\u001b[0m: name 'plt' is not defined"
     ]
    }
   ],
   "source": [
    "plt.imshow(data[1][0],cmap='gray')"
   ]
  }
 ],
 "metadata": {
  "kernelspec": {
   "display_name": "sem-deep-learning",
   "language": "python",
   "name": "python3"
  },
  "language_info": {
   "codemirror_mode": {
    "name": "ipython",
    "version": 3
   },
   "file_extension": ".py",
   "mimetype": "text/x-python",
   "name": "python",
   "nbconvert_exporter": "python",
   "pygments_lexer": "ipython3",
   "version": "3.11.7"
  },
  "orig_nbformat": 4
 },
 "nbformat": 4,
 "nbformat_minor": 2
}
