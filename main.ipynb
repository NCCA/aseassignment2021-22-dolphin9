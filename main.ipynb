{
 "cells": [
  {
   "cell_type": "code",
   "execution_count": 19,
   "metadata": {},
   "outputs": [],
   "source": [
    "import torch\n",
    "from matplotlib import pyplot as plt"
   ]
  },
  {
   "cell_type": "code",
   "execution_count": 20,
   "metadata": {},
   "outputs": [],
   "source": [
    "video_dir = 'datasets/mp4/'\n",
    "json_dir = 'datasets/data/'\n",
    "label_dir = 'datasets/cfg/'\n",
    "list_file = 'datafiles.txt'"
   ]
  },
  {
   "cell_type": "code",
   "execution_count": 21,
   "metadata": {},
   "outputs": [],
   "source": [
    "import numpy as np\n",
    "import pandas as pd\n",
    "import os\n",
    "with open(list_file,'w') as datafiles:\n",
    "    filelist = os.listdir(video_dir)\n",
    "    for i in filelist:\n",
    "        datafiles.write(i[:-4]+'\\n')"
   ]
  },
  {
   "cell_type": "code",
   "execution_count": 22,
   "metadata": {},
   "outputs": [],
   "source": [
    "filelist = []\n",
    "with open(list_file,'r') as file:\n",
    "    line = file.readline()\n",
    "    filelist = line.split('\\n')"
   ]
  },
  {
   "cell_type": "code",
   "execution_count": 23,
   "metadata": {},
   "outputs": [
    {
     "data": {
      "text/plain": [
       "'\\ncap = cv.VideoCapture(video_dir + filelist[0]+\\'.mp4\\')\\n\\nmotion = []\\n\\nwhile cap.isOpened():\\n    ret, frame = cap.read()\\n    if not ret:\\n        print(\"Can\\'t receive frame (stream end?). Exiting ...\")\\n        break\\n    img = cv.cvtColor(frame, cv.COLOR_BGR2GRAY)\\n    motion.append(img)\\n\\n    cv.imshow(\\'frame\\', img)\\n    if cv.waitKey(1) == ord(\\'q\\'):\\n        break\\ncap.release()\\ncv.waitKey()\\ncv.destroyAllWindows()\\n'"
      ]
     },
     "execution_count": 23,
     "metadata": {},
     "output_type": "execute_result"
    }
   ],
   "source": [
    "import cv2 as cv\n",
    "'''\n",
    "cap = cv.VideoCapture(video_dir + filelist[0]+'.mp4')\n",
    "\n",
    "motion = []\n",
    "\n",
    "while cap.isOpened():\n",
    "    ret, frame = cap.read()\n",
    "    if not ret:\n",
    "        print(\"Can't receive frame (stream end?). Exiting ...\")\n",
    "        break\n",
    "    img = cv.cvtColor(frame, cv.COLOR_BGR2GRAY)\n",
    "    motion.append(img)\n",
    "\n",
    "    cv.imshow('frame', img)\n",
    "    if cv.waitKey(1) == ord('q'):\n",
    "        break\n",
    "cap.release()\n",
    "cv.waitKey()\n",
    "cv.destroyAllWindows()\n",
    "'''"
   ]
  },
  {
   "cell_type": "code",
   "execution_count": 24,
   "metadata": {},
   "outputs": [],
   "source": [
    "#plt.imshow(motion[0],cmap='gray')"
   ]
  },
  {
   "cell_type": "code",
   "execution_count": 25,
   "metadata": {},
   "outputs": [],
   "source": [
    "#cv.imwrite('temp.png', motion[0])\n",
    "#img = cv.imread(\"temp.png\")\n",
    "#plt.imshow(img,cmap='gray')\n",
    "#print(type(img))\n",
    "#print(img)\n"
   ]
  },
  {
   "cell_type": "code",
   "execution_count": 26,
   "metadata": {},
   "outputs": [
    {
     "ename": "NameError",
     "evalue": "name 'motion' is not defined",
     "output_type": "error",
     "traceback": [
      "\u001b[0;31m---------------------------------------------------------------------------\u001b[0m",
      "\u001b[0;31mNameError\u001b[0m                                 Traceback (most recent call last)",
      "Cell \u001b[0;32mIn[26], line 1\u001b[0m\n\u001b[0;32m----> 1\u001b[0m PaddingImage \u001b[39m=\u001b[39m np\u001b[39m.\u001b[39mpad(motion[\u001b[39m0\u001b[39m],((\u001b[39m1\u001b[39m,\u001b[39m1\u001b[39m),(\u001b[39m1\u001b[39m,\u001b[39m1\u001b[39m)))\n\u001b[1;32m      2\u001b[0m plt\u001b[39m.\u001b[39mimshow(PaddingImage,cmap\u001b[39m=\u001b[39m\u001b[39m'\u001b[39m\u001b[39mgray\u001b[39m\u001b[39m'\u001b[39m)\n\u001b[1;32m      3\u001b[0m PaddingImage\n",
      "\u001b[0;31mNameError\u001b[0m: name 'motion' is not defined"
     ]
    }
   ],
   "source": [
    "PaddingImage = np.pad(motion[0],((1,1),(1,1)))\n",
    "plt.imshow(PaddingImage,cmap='gray')\n",
    "PaddingImage"
   ]
  },
  {
   "cell_type": "code",
   "execution_count": null,
   "metadata": {},
   "outputs": [],
   "source": [
    "#Con_kernel = [1,1,1,1,1,1,1,1,1]\n",
    "#Con_kernel = [1,1,1,1,2,1,1,1,1] #sharper\n",
    "Con_kernel = [1,2,1,2,4,2,1,2,1]\n",
    "\n",
    "#Con_kernel = [0,-1,0,-1,5,-1,0,-1,0]\n",
    "#Con_kernel = [-1,-1,-1,-1,9,-1,-1,-1,-1] \n",
    "#Con_kernel = [1,-2,1,-2,5,-2,1,-2,1] \n",
    "\n",
    "#Con_kernel = [-1,0,-1,0,4,0,-1,0,-1]\n",
    "#Con_kernel = [-1,-1,-1,-1,8,-1,-1,-1,-1]\n",
    "\n",
    "#Con_kernel = [-1,0,1,-2,0,2,-1,0,1]\n",
    "#Con_kernel = [1,2,1,0,0,0,-1,-2,-1]\n",
    "#Con_kernel = [2,1,0,1,0,-1,0,-1,-2]"
   ]
  },
  {
   "cell_type": "code",
   "execution_count": null,
   "metadata": {},
   "outputs": [],
   "source": [
    "print(PaddingImage.shape)\n",
    "img_width = PaddingImage.shape[0]\n",
    "img_height =PaddingImage.shape[1]\n",
    "print(img_width,img_height)"
   ]
  },
  {
   "cell_type": "code",
   "execution_count": null,
   "metadata": {},
   "outputs": [],
   "source": [
    "Pixel_list = []\n",
    "tmp = [[-1,-1],[-1, 0],[-1, 1],\n",
    "       [ 0,-1],[ 0, 0],[ 0, 1],\n",
    "       [ 1,-1],[ 1, 0],[ 1, 1]]\n",
    "\n",
    "for i in range(1,img_width):\n",
    "    for j in range(1,img_height):\n",
    "        neighbourlist = []\n",
    "        for k in range(0,9):\n",
    "            neighbourlist.append(PaddingGreyTestImage[i+tmp[k][0]][j+tmp[k][1]] * Con_kernel[k])\n",
    "        Pixel_list.append(sum(neighbourlist))\n",
    "\n",
    "conv_image = np.array(Pixel_list).reshape(512,512)"
   ]
  },
  {
   "cell_type": "code",
   "execution_count": 1,
   "metadata": {},
   "outputs": [],
   "source": [
    "from BandaiDataset import BandaiDataset \n",
    "\n",
    "data = BandaiDataset()"
   ]
  },
  {
   "cell_type": "code",
   "execution_count": 2,
   "metadata": {},
   "outputs": [
    {
     "name": "stdout",
     "output_type": "stream",
     "text": [
      "dataset-1_bow_active_001: stream end\n",
      "dataset-1_bow_angry_001: stream end\n",
      "dataset-1_bow_childish_001: stream end\n",
      "dataset-1_bow_chimpira_001: stream end\n",
      "dataset-1_bow_feminine_001: stream end\n",
      "dataset-1_bow_giant_001: stream end\n",
      "dataset-1_bow_happy_001: stream end\n",
      "dataset-1_bow_masculinity_001: stream end\n",
      "dataset-1_bow_musical_001: stream end\n",
      "dataset-1_bow_normal_001: stream end\n",
      "dataset-1_bow_not-confident_001: stream end\n",
      "dataset-1_bow_old_001: stream end\n",
      "dataset-1_bow_proud_001: stream end\n",
      "dataset-1_bow_sad_001: stream end\n",
      "dataset-1_bow_tired_001: stream end\n",
      "dataset-1_byebye_active_001: stream end\n",
      "dataset-1_byebye_angry_001: stream end\n",
      "dataset-1_byebye_childish_001: stream end\n",
      "dataset-1_byebye_chimpira_001: stream end\n",
      "dataset-1_byebye_feminine_001: stream end\n",
      "dataset-1_byebye_giant_001: stream end\n",
      "dataset-1_byebye_happy_001: stream end\n",
      "dataset-1_byebye_masculinity_001: stream end\n",
      "dataset-1_byebye_musical_001: stream end\n",
      "dataset-1_byebye_normal_001: stream end\n",
      "dataset-1_byebye_not-confident_001: stream end\n",
      "dataset-1_byebye_old_001: stream end\n",
      "dataset-1_byebye_proud_001: stream end\n",
      "dataset-1_byebye_sad_001: stream end\n",
      "dataset-1_byebye_tired_001: stream end\n",
      "dataset-1_bye_active_001: stream end\n",
      "dataset-1_bye_angry_001: stream end\n",
      "dataset-1_bye_childish_001: stream end\n",
      "dataset-1_bye_chimpira_001: stream end\n",
      "dataset-1_bye_feminine_001: stream end\n",
      "dataset-1_bye_giant_001: stream end\n",
      "dataset-1_bye_happy_001: stream end\n",
      "dataset-1_bye_masculinity_001: stream end\n",
      "dataset-1_bye_musical_001: stream end\n",
      "dataset-1_bye_normal_001: stream end\n",
      "dataset-1_bye_not-confident_001: stream end\n",
      "dataset-1_bye_old_001: stream end\n",
      "dataset-1_bye_proud_001: stream end\n",
      "dataset-1_bye_sad_001: stream end\n",
      "dataset-1_bye_tired_001: stream end\n",
      "dataset-1_call_normal_001: stream end\n",
      "dataset-1_call_normal_002: stream end\n",
      "dataset-1_dance-long_normal_001: stream end\n",
      "dataset-1_dance-short_normal_001: stream end\n",
      "dataset-1_dash_active_001: stream end\n",
      "dataset-1_dash_angry_001: stream end\n",
      "dataset-1_dash_childish_001: stream end\n",
      "dataset-1_dash_chimpira_001: stream end\n",
      "dataset-1_dash_feminine_001: stream end\n",
      "dataset-1_dash_giant_001: stream end\n",
      "dataset-1_dash_happy_001: stream end\n",
      "dataset-1_dash_masculinity_001: stream end\n",
      "dataset-1_dash_musical_001: stream end\n",
      "dataset-1_dash_normal_001: stream end\n",
      "dataset-1_dash_not-confident_001: stream end\n",
      "dataset-1_dash_old_001: stream end\n",
      "dataset-1_dash_proud_001: stream end\n",
      "dataset-1_dash_sad_001: stream end\n",
      "dataset-1_dash_tired_001: stream end\n",
      "dataset-1_guide_active_001: stream end\n",
      "dataset-1_guide_angry_001: stream end\n",
      "dataset-1_guide_childish_001: stream end\n",
      "dataset-1_guide_chimpira_001: stream end\n",
      "dataset-1_guide_feminine_001: stream end\n",
      "dataset-1_guide_giant_001: stream end\n",
      "dataset-1_guide_happy_001: stream end\n",
      "dataset-1_guide_masculinity_001: stream end\n",
      "dataset-1_guide_musical_001: stream end\n",
      "dataset-1_guide_normal_001: stream end\n",
      "dataset-1_guide_not-confident_001: stream end\n",
      "dataset-1_guide_old_001: stream end\n",
      "dataset-1_guide_proud_001: stream end\n",
      "dataset-1_guide_sad_001: stream end\n",
      "dataset-1_guide_tired_001: stream end\n",
      "dataset-1_kick_normal_001: stream end\n",
      "dataset-1_punch_normal_001: stream end\n",
      "dataset-1_punch_normal_002: stream end\n",
      "dataset-1_respond_normal_001: stream end\n",
      "dataset-1_run_active_001: stream end\n",
      "dataset-1_run_angry_001: stream end\n",
      "dataset-1_run_childish_001: stream end\n",
      "dataset-1_run_chimpira_001: stream end\n",
      "dataset-1_run_feminine_001: stream end\n",
      "dataset-1_run_giant_001: stream end\n",
      "dataset-1_run_happy_001: stream end\n",
      "dataset-1_run_masculinity_001: stream end\n",
      "dataset-1_run_musical_001: stream end\n",
      "dataset-1_run_normal_001: stream end\n",
      "dataset-1_run_not-confident_001: stream end\n",
      "dataset-1_run_old_001: stream end\n",
      "dataset-1_run_proud_001: stream end\n",
      "dataset-1_run_sad_001: stream end\n",
      "dataset-1_run_tired_001: stream end\n",
      "dataset-1_slash_normal_001: stream end\n",
      "dataset-1_slash_normal_002: stream end\n",
      "dataset-1_walk-back_active_001: stream end\n",
      "dataset-1_walk-back_angry_001: stream end\n",
      "dataset-1_walk-back_childish_001: stream end\n",
      "dataset-1_walk-back_chimpira_001: stream end\n",
      "dataset-1_walk-back_feminine_001: stream end\n",
      "dataset-1_walk-back_giant_001: stream end\n",
      "dataset-1_walk-back_happy_001: stream end\n",
      "dataset-1_walk-back_masculinity_001: stream end\n",
      "dataset-1_walk-back_musical_001: stream end\n",
      "dataset-1_walk-back_normal_001: stream end\n",
      "dataset-1_walk-back_not-confident_001: stream end\n",
      "dataset-1_walk-back_old_001: stream end\n",
      "dataset-1_walk-back_proud_001: stream end\n",
      "dataset-1_walk-back_sad_001: stream end\n",
      "dataset-1_walk-back_tired_001: stream end\n",
      "dataset-1_walk-left_active_001: stream end\n",
      "dataset-1_walk-left_angry_001: stream end\n",
      "dataset-1_walk-left_childish_001: stream end\n",
      "dataset-1_walk-left_chimpira_001: stream end\n",
      "dataset-1_walk-left_feminine_001: stream end\n",
      "dataset-1_walk-left_giant_001: stream end\n",
      "dataset-1_walk-left_happy_001: stream end\n",
      "dataset-1_walk-left_masculinity_001: stream end\n",
      "dataset-1_walk-left_musical_001: stream end\n",
      "dataset-1_walk-left_normal_001: stream end\n",
      "dataset-1_walk-left_not-confident_001: stream end\n",
      "dataset-1_walk-left_old_001: stream end\n",
      "dataset-1_walk-left_proud_001: stream end\n",
      "dataset-1_walk-left_sad_001: stream end\n",
      "dataset-1_walk-left_tired_001: stream end\n",
      "dataset-1_walk-right_active_001: stream end\n",
      "dataset-1_walk-right_angry_001: stream end\n",
      "dataset-1_walk-right_childish_001: stream end\n",
      "dataset-1_walk-right_chimpira_001: stream end\n",
      "dataset-1_walk-right_feminine_001: stream end\n",
      "dataset-1_walk-right_giant_001: stream end\n",
      "dataset-1_walk-right_happy_001: stream end\n",
      "dataset-1_walk-right_masculinity_001: stream end\n",
      "dataset-1_walk-right_musical_001: stream end\n",
      "dataset-1_walk-right_normal_001: stream end\n",
      "dataset-1_walk-right_not-confident_001: stream end\n",
      "dataset-1_walk-right_old_001: stream end\n",
      "dataset-1_walk-right_proud_001: stream end\n",
      "dataset-1_walk-right_sad_001: stream end\n",
      "dataset-1_walk-right_tired_001: stream end\n",
      "dataset-1_walk_active_001: stream end\n",
      "dataset-1_walk_active_002: stream end\n",
      "dataset-1_walk_angry_001: stream end\n",
      "dataset-1_walk_angry_002: stream end\n",
      "dataset-1_walk_childish_001: stream end\n",
      "dataset-1_walk_childish_002: stream end\n",
      "dataset-1_walk_chimpira_001: stream end\n",
      "dataset-1_walk_chimpira_002: stream end\n",
      "dataset-1_walk_feminine_001: stream end\n",
      "dataset-1_walk_feminine_002: stream end\n",
      "dataset-1_walk_giant_001: stream end\n",
      "dataset-1_walk_giant_002: stream end\n",
      "dataset-1_walk_happy_001: stream end\n",
      "dataset-1_walk_happy_002: stream end\n",
      "dataset-1_walk_masculinity_001: stream end\n",
      "dataset-1_walk_masculinity_002: stream end\n",
      "dataset-1_walk_musical_001: stream end\n",
      "dataset-1_walk_musical_002: stream end\n",
      "dataset-1_walk_normal_001: stream end\n",
      "dataset-1_walk_normal_002: stream end\n",
      "dataset-1_walk_not-confident_001: stream end\n",
      "dataset-1_walk_not-confident_002: stream end\n",
      "dataset-1_walk_old_001: stream end\n",
      "dataset-1_walk_old_002: stream end\n",
      "dataset-1_walk_proud_001: stream end\n",
      "dataset-1_walk_proud_002: stream end\n",
      "dataset-1_walk_sad_001: stream end\n",
      "dataset-1_walk_sad_002: stream end\n",
      "dataset-1_walk_tired_001: stream end\n",
      "dataset-1_walk_tired_002: stream end\n"
     ]
    }
   ],
   "source": [
    "data.load()"
   ]
  },
  {
   "cell_type": "code",
   "execution_count": 3,
   "metadata": {},
   "outputs": [
    {
     "data": {
      "text/plain": [
       "6"
      ]
     },
     "execution_count": 3,
     "metadata": {},
     "output_type": "execute_result"
    }
   ],
   "source": [
    "import json\n",
    "data.json_dir   \n",
    "with open(data.json_dir+data.filelist[0]+'.json','r') as file:\n",
    "    line = file.readline()\n",
    "    jsondata = json.loads(line)\n",
    "\n",
    "jsondata['content']\n",
    "#csvdata#[\"content\"]"
   ]
  },
  {
   "cell_type": "code",
   "execution_count": 4,
   "metadata": {},
   "outputs": [],
   "source": [
    "from torch.utils.data import DataLoader, random_split\n",
    "\n",
    "def load_data(data_path, batch_sz = 100, train_val_test_split = [0.7,0.1,0.2]):\n",
    "    assert sum(train_val_test_split) == 1, \"Train, val and test fractions should sum to 1!\" \n",
    "    dataset = BandaiDataset(data_path)\n",
    "    dataset.load()\n",
    "\n",
    "    tr_va_te = []\n",
    "    for frac in train_val_test_split:\n",
    "        num = round(frac * len(dataset))\n",
    "        tr_va_te.append(num)\n",
    "\n",
    "    train_split, val_split, test_split = random_split(dataset, tr_va_te)\n",
    "    \n"
   ]
  },
  {
   "cell_type": "code",
   "execution_count": null,
   "metadata": {},
   "outputs": [],
   "source": []
  },
  {
   "attachments": {},
   "cell_type": "markdown",
   "metadata": {},
   "source": []
  }
 ],
 "metadata": {
  "kernelspec": {
   "display_name": "sem-deep-learning",
   "language": "python",
   "name": "python3"
  },
  "language_info": {
   "codemirror_mode": {
    "name": "ipython",
    "version": 3
   },
   "file_extension": ".py",
   "mimetype": "text/x-python",
   "name": "python",
   "nbconvert_exporter": "python",
   "pygments_lexer": "ipython3",
   "version": "3.11.7"
  },
  "orig_nbformat": 4
 },
 "nbformat": 4,
 "nbformat_minor": 2
}
