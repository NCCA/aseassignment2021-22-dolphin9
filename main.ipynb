{
 "cells": [
  {
   "cell_type": "code",
   "execution_count": null,
   "metadata": {},
   "outputs": [],
   "source": [
    "import torch"
   ]
  },
  {
   "cell_type": "code",
   "execution_count": null,
   "metadata": {},
   "outputs": [],
   "source": [
    "#dataset_file = './dataset/motionx_seq_text.zip'\n",
    "#!unzip -o -d ./data ./dataset/motionx_seq_text.zip"
   ]
  },
  {
   "cell_type": "code",
   "execution_count": null,
   "metadata": {},
   "outputs": [],
   "source": [
    "#!unzip -o -d ./data ./dataset/motionx_smplx.zip"
   ]
  },
  {
   "cell_type": "code",
   "execution_count": null,
   "metadata": {},
   "outputs": [],
   "source": [
    "''''\n",
    "import numpy as np\n",
    "import pandas as pd\n",
    "motion = np.load('datasets/motion_data/smplx_322/HAA500/subset_0001/Badminton_Underswing.npy')\n",
    "motion = torch.tensor(motion).float()\n",
    "semantic_text = pd.read_csv('datasets/texts/semantic_labels/HAA500/subset_0001/Badminton_Underswing.txt')\n",
    "semantic_text\n",
    "'''"
   ]
  },
  {
   "cell_type": "code",
   "execution_count": null,
   "metadata": {},
   "outputs": [],
   "source": [
    "rawdatafile = './datasets/dayhis.txt'\n",
    "\n",
    "class Record:\n",
    "    def __init__(self, inputline):\n",
    "        self.content = inputline\n",
    "    \n",
    "    def get_date(self):\n",
    "        return self.content[0]\n",
    "    def get_code(self):\n",
    "        return self.content[1]\n",
    "    def get_start_price(self):\n",
    "        return self.content[2]\n",
    "    def get_top_price(self):\n",
    "        return self.content[3]\n",
    "    def get_bottom_price(self):\n",
    "        return self.content[4]\n",
    "    def get_end_price(self):\n",
    "        return self.content[5]\n",
    "    def get_deal_num(self):\n",
    "        return self.content[6]\n",
    "    def get_deal_amt(self):\n",
    "        return self.content[7]\n",
    "\n",
    "class Stocks:\n",
    "    def __init__(self,id):\n",
    "        self.name = id\n",
    "        self.record = []\n",
    "        self.record_cnt = 0\n",
    "        \n",
    "    def newRecord(self, recordLine):\n",
    "        newRecord = Record(recordLine)\n",
    "        self.record.append(newRecord)\n",
    "        self.record_cnt += 1\n",
    "\n",
    "with open(rawdatafile,'r') as dataset:\n",
    "    day = 0\n",
    "    cnt = 0\n",
    "    code = []\n",
    "    date = ''\n",
    "    stocks= []\n",
    "    for line in dataset:\n",
    "        if not line:\n",
    "            break\n",
    "        else:\n",
    "            line_words = line.split('\\t')\n",
    "            if date != line_words[0]:\n",
    "                print(line_words[0])\n",
    "                day += 1\n",
    "                date = line_words[0]\n",
    "\n",
    "            if line_words[0] == '20171010':\n",
    "                code.append(line_words[1])\n",
    "                stock = Stocks(cnt)\n",
    "                stocks.append(stock)\n",
    "                stocks[cnt].newRecord(line_words)\n",
    "                cnt += 1\n",
    "            else:\n",
    "                for i in range(0,len(code)):\n",
    "                    if code[i] == line_words[1]:\n",
    "                        stocks[i].newRecord(line_words)\n",
    "                        break\n",
    "\n",
    "\n",
    "                "
   ]
  },
  {
   "cell_type": "code",
   "execution_count": null,
   "metadata": {},
   "outputs": [],
   "source": [
    "datafile = './datasets/data.txt'\n",
    "print(day)\n",
    "collect = []\n",
    "cnt=0\n",
    "import json\n",
    "with open(datafile,'w') as data:\n",
    "    for item in stocks:\n",
    "        if item.record_cnt == day :\n",
    "         #print(item.name)\n",
    "            collect.append(item.name)\n",
    "            cnt += 1\n",
    "            #json_str = json.dumps(item) \n",
    "            data.write(item.name)\n",
    "\n",
    "print(cnt)\n"
   ]
  },
  {
   "cell_type": "code",
   "execution_count": null,
   "metadata": {},
   "outputs": [],
   "source": [
    "print(date)"
   ]
  },
  {
   "cell_type": "code",
   "execution_count": null,
   "metadata": {},
   "outputs": [],
   "source": [
    "\n"
   ]
  }
 ],
 "metadata": {
  "kernelspec": {
   "display_name": "sem-deep-learning",
   "language": "python",
   "name": "python3"
  },
  "language_info": {
   "codemirror_mode": {
    "name": "ipython",
    "version": 3
   },
   "file_extension": ".py",
   "mimetype": "text/x-python",
   "name": "python",
   "nbconvert_exporter": "python",
   "pygments_lexer": "ipython3",
   "version": "3.11.7"
  },
  "orig_nbformat": 4
 },
 "nbformat": 4,
 "nbformat_minor": 2
}
