{
 "cells": [
  {
   "cell_type": "code",
   "execution_count": 36,
   "metadata": {},
   "outputs": [],
   "source": [
    "import torch"
   ]
  },
  {
   "cell_type": "code",
   "execution_count": 37,
   "metadata": {},
   "outputs": [],
   "source": [
    "video_dir = 'datasets/mp4'\n",
    "json_dir = 'datasets/data/'\n",
    "label_dir = 'datasets/cfg/'\n",
    "list_file = 'datafiles.txt'"
   ]
  },
  {
   "cell_type": "code",
   "execution_count": 38,
   "metadata": {},
   "outputs": [],
   "source": [
    "import numpy as np\n",
    "import pandas as pd\n",
    "import os\n",
    "with open(list_file,'w') as datafiles:\n",
    "    filelist = os.listdir(video_dir)\n",
    "    for i in filelist:\n",
    "        datafiles.write(i[:-4]+',')"
   ]
  },
  {
   "cell_type": "code",
   "execution_count": 39,
   "metadata": {},
   "outputs": [
    {
     "data": {
      "text/plain": [
       "['dataset-1_bow_active_001dataset-1_bow_angry_001dataset-1_bow_childish_001dataset-1_bow_chimpira_001dataset-1_bow_feminine_001dataset-1_bow_giant_001dataset-1_bow_happy_001dataset-1_bow_masculinity_001dataset-1_bow_musical_001dataset-1_bow_normal_001dataset-1_bow_not-confident_001dataset-1_bow_old_001dataset-1_bow_proud_001dataset-1_bow_sad_001dataset-1_bow_tired_001dataset-1_byebye_active_001dataset-1_byebye_angry_001dataset-1_byebye_childish_001dataset-1_byebye_chimpira_001dataset-1_byebye_feminine_001dataset-1_byebye_giant_001dataset-1_byebye_happy_001dataset-1_byebye_masculinity_001dataset-1_byebye_musical_001dataset-1_byebye_normal_001dataset-1_byebye_not-confident_001dataset-1_byebye_old_001dataset-1_byebye_proud_001dataset-1_byebye_sad_001dataset-1_byebye_tired_001dataset-1_bye_active_001dataset-1_bye_angry_001dataset-1_bye_childish_001dataset-1_bye_chimpira_001dataset-1_bye_feminine_001dataset-1_bye_giant_001dataset-1_bye_happy_001dataset-1_bye_masculinity_001dataset-1_bye_musical_001dataset-1_bye_normal_001dataset-1_bye_not-confident_001dataset-1_bye_old_001dataset-1_bye_proud_001dataset-1_bye_sad_001dataset-1_bye_tired_001dataset-1_call_normal_001dataset-1_call_normal_002dataset-1_dance-long_normal_001dataset-1_dance-short_normal_001dataset-1_dash_active_001dataset-1_dash_angry_001dataset-1_dash_childish_001dataset-1_dash_chimpira_001dataset-1_dash_feminine_001dataset-1_dash_giant_001dataset-1_dash_happy_001dataset-1_dash_masculinity_001dataset-1_dash_musical_001dataset-1_dash_normal_001dataset-1_dash_not-confident_001dataset-1_dash_old_001dataset-1_dash_proud_001dataset-1_dash_sad_001dataset-1_dash_tired_001dataset-1_guide_active_001dataset-1_guide_angry_001dataset-1_guide_childish_001dataset-1_guide_chimpira_001dataset-1_guide_feminine_001dataset-1_guide_giant_001dataset-1_guide_happy_001dataset-1_guide_masculinity_001dataset-1_guide_musical_001dataset-1_guide_normal_001dataset-1_guide_not-confident_001dataset-1_guide_old_001dataset-1_guide_proud_001dataset-1_guide_sad_001dataset-1_guide_tired_001dataset-1_kick_normal_001dataset-1_punch_normal_001dataset-1_punch_normal_002dataset-1_respond_normal_001dataset-1_run_active_001dataset-1_run_angry_001dataset-1_run_childish_001dataset-1_run_chimpira_001dataset-1_run_feminine_001dataset-1_run_giant_001dataset-1_run_happy_001dataset-1_run_masculinity_001dataset-1_run_musical_001dataset-1_run_normal_001dataset-1_run_not-confident_001dataset-1_run_old_001dataset-1_run_proud_001dataset-1_run_sad_001dataset-1_run_tired_001dataset-1_slash_normal_001dataset-1_slash_normal_002dataset-1_walk-back_active_001dataset-1_walk-back_angry_001dataset-1_walk-back_childish_001dataset-1_walk-back_chimpira_001dataset-1_walk-back_feminine_001dataset-1_walk-back_giant_001dataset-1_walk-back_happy_001dataset-1_walk-back_masculinity_001dataset-1_walk-back_musical_001dataset-1_walk-back_normal_001dataset-1_walk-back_not-confident_001dataset-1_walk-back_old_001dataset-1_walk-back_proud_001dataset-1_walk-back_sad_001dataset-1_walk-back_tired_001dataset-1_walk-left_active_001dataset-1_walk-left_angry_001dataset-1_walk-left_childish_001dataset-1_walk-left_chimpira_001dataset-1_walk-left_feminine_001dataset-1_walk-left_giant_001dataset-1_walk-left_happy_001dataset-1_walk-left_masculinity_001dataset-1_walk-left_musical_001dataset-1_walk-left_normal_001dataset-1_walk-left_not-confident_001dataset-1_walk-left_old_001dataset-1_walk-left_proud_001dataset-1_walk-left_sad_001dataset-1_walk-left_tired_001dataset-1_walk-right_active_001dataset-1_walk-right_angry_001dataset-1_walk-right_childish_001dataset-1_walk-right_chimpira_001dataset-1_walk-right_feminine_001dataset-1_walk-right_giant_001dataset-1_walk-right_happy_001dataset-1_walk-right_masculinity_001dataset-1_walk-right_musical_001dataset-1_walk-right_normal_001dataset-1_walk-right_not-confident_001dataset-1_walk-right_old_001dataset-1_walk-right_proud_001dataset-1_walk-right_sad_001dataset-1_walk-right_tired_001dataset-1_walk_active_001dataset-1_walk_active_002dataset-1_walk_angry_001dataset-1_walk_angry_002dataset-1_walk_childish_001dataset-1_walk_childish_002dataset-1_walk_chimpira_001dataset-1_walk_chimpira_002dataset-1_walk_feminine_001dataset-1_walk_feminine_002dataset-1_walk_giant_001dataset-1_walk_giant_002dataset-1_walk_happy_001dataset-1_walk_happy_002dataset-1_walk_masculinity_001dataset-1_walk_masculinity_002dataset-1_walk_musical_001dataset-1_walk_musical_002dataset-1_walk_normal_001dataset-1_walk_normal_002dataset-1_walk_not-confident_001dataset-1_walk_not-confident_002dataset-1_walk_old_001dataset-1_walk_old_002dataset-1_walk_proud_001dataset-1_walk_proud_002dataset-1_walk_sad_001dataset-1_walk_sad_002dataset-1_walk_tired_001dataset-1_walk_tired_002']"
      ]
     },
     "execution_count": 39,
     "metadata": {},
     "output_type": "execute_result"
    }
   ],
   "source": [
    "filelist = []\n",
    "with open(list_file,'r') as file:\n",
    "    line = file.readline()\n",
    "    filelist = line.split(',')\n",
    "\n",
    "filelist"
   ]
  }
 ],
 "metadata": {
  "kernelspec": {
   "display_name": "sem-deep-learning",
   "language": "python",
   "name": "python3"
  },
  "language_info": {
   "codemirror_mode": {
    "name": "ipython",
    "version": 3
   },
   "file_extension": ".py",
   "mimetype": "text/x-python",
   "name": "python",
   "nbconvert_exporter": "python",
   "pygments_lexer": "ipython3",
   "version": "3.11.7"
  },
  "orig_nbformat": 4
 },
 "nbformat": 4,
 "nbformat_minor": 2
}
