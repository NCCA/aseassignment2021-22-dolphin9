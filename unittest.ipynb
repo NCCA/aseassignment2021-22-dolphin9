{
 "cells": [
  {
   "cell_type": "code",
   "execution_count": null,
   "metadata": {},
   "outputs": [],
   "source": [
    "import unittest\n",
    "from Model.BandaiDataset import BandaiDataset\n",
    "from Model.BandaiDataset import Motion\n",
    "import Model.mymodel as mymodel\n",
    "import Model.trainer as trainer\n",
    "#import Model.Resnet as Resnet\n",
    "import numpy as np\n",
    "import torch\n"
   ]
  },
  {
   "cell_type": "code",
   "execution_count": null,
   "metadata": {},
   "outputs": [],
   "source": [
    "TEST_VEDIO_DIR = 'test/testfolder/'\n",
    "TEST_FILE_NAME1 = 'dataset-1_walk_not-confident_001'\n",
    "TEST_FILE_NAME2 = 'dataset-1_walk_sad_002'\n",
    "TEST_SET_FRAME = 10\n",
    "TEST_JSON_DIR = './datasets/data/'\n"
   ]
  },
  {
   "cell_type": "code",
   "execution_count": null,
   "metadata": {},
   "outputs": [],
   "source": [
    "class TestMotion(unittest.TestCase):\n",
    "    def setUp(self):\n",
    "        self.motion = Motion()\n",
    "\n",
    "    def test_input_motion(self):\n",
    "        print(\"Testing Motion.input_motion(): \", end='')\n",
    "        self.setUp()\n",
    "        self.motion.input_motion(TEST_VEDIO_DIR, TEST_FILE_NAME1,TEST_JSON_DIR)\n",
    "        cnt = 0\n",
    "        pose_size = np.array(self.motion.pose_list).shape\n",
    "        flag = True\n",
    "        for i in self.motion.pose_list:\n",
    "            tmp = np.array(self.motion.pose_list).shape\n",
    "            cnt += 1 \n",
    "            if(tmp != pose_size):\n",
    "                flag = False\n",
    "        motion_lenth = cnt\n",
    "\n",
    "        self.assertEqual((flag,motion_lenth),(True,self.motion.frame_num))\n",
    "        print(\"ok!\")\n",
    "\n",
    "    def test_adjust(self):\n",
    "        print(\"Testing Motion.adjust(): \", end='')\n",
    "        self.setUp()\n",
    "        self.motion.input_motion(TEST_VEDIO_DIR, TEST_FILE_NAME1,TEST_JSON_DIR)\n",
    "        self.motion.adjust(TEST_SET_FRAME)\n",
    "        self.assertEqual(self.motion.frame_num, TEST_SET_FRAME)\n",
    "        print(\"ok!\")\n",
    "\n",
    "    def test_get_motion_tensor(self):\n",
    "        print(\"Testing Motion.get_motion_tensor(): \", end='')\n",
    "        self.setUp()\n",
    "        self.motion.input_motion(TEST_VEDIO_DIR, TEST_FILE_NAME1,TEST_JSON_DIR)\n",
    "        motion_tensor = self.motion.get_motion_tensor(TEST_SET_FRAME)\n",
    "        size_of_motion = motion_tensor.shape\n",
    "        self.assertEqual(size_of_motion,torch.Size([TEST_SET_FRAME,480,640]))\n",
    "        print(\"ok!\")\n",
    "        \n",
    "    def test_get_pose(self):\n",
    "        print(\"Testing Motion.get_pose(): \", end='')\n",
    "        self.setUp()\n",
    "        self.motion.input_motion(TEST_VEDIO_DIR, TEST_FILE_NAME1,TEST_JSON_DIR)\n",
    "        pose = self.motion.get_pose(0)\n",
    "        self.assertEqual(pose.shape,torch.Size([480,640]))\n",
    "        print(\"ok!\")\n",
    "        self.motion.draw_pose(0)"
   ]
  },
  {
   "cell_type": "code",
   "execution_count": null,
   "metadata": {},
   "outputs": [],
   "source": [
    "class TestBandaiDataset(unittest.TestCase):\n",
    "    def setUp(self):\n",
    "        self.dataset = BandaiDataset()\n",
    "        self.listfile = 'test/filenames.txt'\n",
    "        \n",
    "    def test_get_filenames(self):\n",
    "        print(\"Testing BandaiDataset.get_pose(): \", end='')\n",
    "        self.setUp()\n",
    "        self.dataset.VIDEO_DIR = 'test/testfolder/'\n",
    "        self.dataset.get_filenames(self.listfile)\n",
    "        self.assertEqual(self.dataset.filelist, [\"dataset-1_walk_not-confident_001\",\"dataset-1_walk_sad_002\"])\n",
    "        print(\"ok!\")\n",
    "\n",
    "    def test_load(self):\n",
    "        print(\"Testing Motion.load(): \", end='')\n",
    "        self.setUp()\n",
    "        self.dataset.load(self.listfile)\n",
    "        self.assertEqual(self.dataset.filelist,[TEST_FILE_NAME1,TEST_FILE_NAME2])\n",
    "        print(\"ok!\")\n",
    "        "
   ]
  },
  {
   "cell_type": "code",
   "execution_count": null,
   "metadata": {},
   "outputs": [],
   "source": [
    "loaded_net_state_dic, dataloaders = trainer.deployment()\n",
    "\n",
    "model = trainer.get_simple_conv_net()\n",
    "model = model.to(trainer.DEVICE)\n",
    "model.load_state_dict(loaded_net_state_dic)\n",
    "trainer.test_model(model, dataloaders)"
   ]
  },
  {
   "cell_type": "code",
   "execution_count": null,
   "metadata": {},
   "outputs": [],
   "source": [
    "test = TestBandaiDataset()\n",
    "test.test_get_filenames()\n",
    "test.test_load()"
   ]
  },
  {
   "cell_type": "code",
   "execution_count": null,
   "metadata": {},
   "outputs": [],
   "source": [
    "test = TestMotion()\n",
    "test.test_input_motion()\n",
    "test.test_adjust()\n",
    "test.test_get_motion_tensor()\n",
    "test.test_get_pose()\n"
   ]
  }
 ],
 "metadata": {
  "kernelspec": {
   "display_name": "assignment-envrionment",
   "language": "python",
   "name": "python3"
  },
  "language_info": {
   "codemirror_mode": {
    "name": "ipython",
    "version": 3
   },
   "file_extension": ".py",
   "mimetype": "text/x-python",
   "name": "python",
   "nbconvert_exporter": "python",
   "pygments_lexer": "ipython3",
   "version": "3.11.7"
  },
  "orig_nbformat": 4
 },
 "nbformat": 4,
 "nbformat_minor": 2
}
