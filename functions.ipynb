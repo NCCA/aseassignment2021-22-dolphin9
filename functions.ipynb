{
 "cells": [
  {
   "cell_type": "code",
   "execution_count": 1,
   "metadata": {},
   "outputs": [],
   "source": [
    "import BandaiDataset as bd\n",
    "\n",
    "data = bd.BandaiDataset()"
   ]
  },
  {
   "cell_type": "code",
   "execution_count": 2,
   "metadata": {},
   "outputs": [],
   "source": [
    "from torch.utils.data import DataLoader, random_split\n",
    "import multiprocessing as mp\n",
    "\n",
    "def load_data(file_list_path= '', data_path='', batch_sz = 5, train_val_test_split = [0.7,0.1,0.2]):\n",
    "    assert sum(train_val_test_split) == 1, \"Train, val and test fractions should sum to 1!\" \n",
    "    dataset = bd.BandaiDataset(data_path)\n",
    "    dataset.get_filenames()\n",
    "\n",
    "    tr_va_te = []\n",
    "    n_cpus = mp.cpu_count()\n",
    "    \n",
    "    for frac in train_val_test_split:\n",
    "        num = round(frac * len(dataset))\n",
    "        tr_va_te.append(num)\n",
    "\n",
    "    train_split, val_split, test_split = random_split(dataset, tr_va_te)\n",
    "    '''\n",
    "    train_dl = DataLoader(train_split,\n",
    "                          batch_size=batch_sz,\n",
    "                          shuffle=True,\n",
    "                          num_workers=n_cpus\n",
    "                        )\n",
    "    val_dl = DataLoader(val_split,\n",
    "                        batch_size=batch_sz,\n",
    "                        shuffle=True,\n",
    "                        num_workers=n_cpus)\n",
    "    test_dl = DataLoader(test_split,\n",
    "                         batch_size=batch_sz,\n",
    "                         shuffle=True,\n",
    "                         num_workers=n_cpus)\n",
    "    '''\n",
    "    #return train_dl, val_dl, test_dl\n",
    "    return train_split, val_split, test_split"
   ]
  },
  {
   "cell_type": "code",
   "execution_count": 4,
   "metadata": {},
   "outputs": [
    {
     "name": "stdout",
     "output_type": "stream",
     "text": [
      "[]\n"
     ]
    }
   ],
   "source": []
  },
  {
   "cell_type": "code",
   "execution_count": 17,
   "metadata": {},
   "outputs": [
    {
     "ename": "TypeError",
     "evalue": "load_data() got multiple values for argument 'batch_sz'",
     "output_type": "error",
     "traceback": [
      "\u001b[0;31m---------------------------------------------------------------------------\u001b[0m",
      "\u001b[0;31mTypeError\u001b[0m                                 Traceback (most recent call last)",
      "Cell \u001b[0;32mIn[17], line 5\u001b[0m\n\u001b[1;32m      2\u001b[0m DATASET_DIR \u001b[39m=\u001b[39m \u001b[39m\"\u001b[39m\u001b[39m./datasets/data/\u001b[39m\u001b[39m\"\u001b[39m\n\u001b[1;32m      3\u001b[0m FILELIST_PATH \u001b[39m=\u001b[39m \u001b[39m\"\u001b[39m\u001b[39mdatafiles.txt\u001b[39m\u001b[39m\"\u001b[39m\n\u001b[0;32m----> 5\u001b[0m train_dl, val_dl, test_dl \u001b[39m=\u001b[39m load_data(FILELIST_PATH,DATASET_DIR,batch_sz\u001b[39m=\u001b[39;49m\u001b[39m4\u001b[39;49m)\n",
      "\u001b[0;31mTypeError\u001b[0m: load_data() got multiple values for argument 'batch_sz'"
     ]
    }
   ],
   "source": [
    "MODEL_DIR = \"./saved_models\"\n",
    "DATASET_DIR = \"./datasets/data/\"\n",
    "FILELIST_PATH = \"datafiles.txt\"\n",
    "\n",
    "train_dl, val_dl, test_dl = load_data(FILELIST_PATH,DATASET_DIR,batch_sz=4)\n"
   ]
  },
  {
   "cell_type": "code",
   "execution_count": 4,
   "metadata": {},
   "outputs": [],
   "source": [
    "import torch\n",
    "def custom_collate_fn(batch,max_frame):\n",
    "    motion_batch_tensor = torch.FloatTensor(len(batch),max_frame,640,480)\n",
    "    motion_tensors = []\n",
    "    labels = []\n",
    "    for item in batch:\n",
    "        motion = bd.Motion()\n",
    "        motion_tensor = motion.input_motion(f\"{DATASET_DIR}{item}\")\n",
    "        motion_tensors.append(motion_tensor)"
   ]
  }
 ],
 "metadata": {
  "kernelspec": {
   "display_name": "assignment-envrionment",
   "language": "python",
   "name": "python3"
  },
  "language_info": {
   "codemirror_mode": {
    "name": "ipython",
    "version": 3
   },
   "file_extension": ".py",
   "mimetype": "text/x-python",
   "name": "python",
   "nbconvert_exporter": "python",
   "pygments_lexer": "ipython3",
   "version": "3.11.7"
  },
  "orig_nbformat": 4
 },
 "nbformat": 4,
 "nbformat_minor": 2
}
