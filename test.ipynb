{
 "cells": [
  {
   "cell_type": "code",
   "execution_count": 22,
   "metadata": {},
   "outputs": [],
   "source": [
    "import unittest\n",
    "import Model.BandaiDataset \n",
    "from Model.BandaiDataset import BandaiDataset\n",
    "from Model.BandaiDataset import Motion\n"
   ]
  },
  {
   "cell_type": "code",
   "execution_count": 23,
   "metadata": {},
   "outputs": [],
   "source": [
    "TEST_VEDIO_DIR = 'test/testfolder/'\n",
    "TEST_FILE_NAME = 'dataset-1_walk_not-confident_001'\n",
    "TEST_SET_FRAME = 10\n"
   ]
  },
  {
   "cell_type": "code",
   "execution_count": 24,
   "metadata": {},
   "outputs": [
    {
     "data": {
      "text/plain": [
       "'class TestMotion(unittest.TestCase):\\n    def setup(self):\\n        self.motion = Motion()\\n    \\n    def test_input_motion(self):\\n        self.motion.input_motion(TEST_VEDIO_DIR, TEST_FILE_NAME)\\n\\n    def test_input_label(self):\\n        self.motion.input_label(TEST_FILE_NAME)\\n        pass\\n\\n    def test_adjust(self):\\n        self.motion.adjust(TEST_SET_FRAME)\\n        pass\\n\\n    def test_get_motion_tensor(self):\\n        self.motion.get_motion_tensor()\\n        pass\\n\\n    def test_getpose(self):\\n        pass'"
      ]
     },
     "execution_count": 24,
     "metadata": {},
     "output_type": "execute_result"
    }
   ],
   "source": [
    "'''class TestMotion(unittest.TestCase):\n",
    "    def setup(self):\n",
    "        self.motion = Motion()\n",
    "    \n",
    "    def test_input_motion(self):\n",
    "        self.motion.input_motion(TEST_VEDIO_DIR, TEST_FILE_NAME)\n",
    "\n",
    "    def test_input_label(self):\n",
    "        self.motion.input_label(TEST_FILE_NAME)\n",
    "        pass\n",
    "\n",
    "    def test_adjust(self):\n",
    "        self.motion.adjust(TEST_SET_FRAME)\n",
    "        pass\n",
    "\n",
    "    def test_get_motion_tensor(self):\n",
    "        self.motion.get_motion_tensor()\n",
    "        pass\n",
    "\n",
    "    def test_getpose(self):\n",
    "        pass'''"
   ]
  },
  {
   "cell_type": "code",
   "execution_count": 33,
   "metadata": {},
   "outputs": [],
   "source": [
    "class TestBandaiDataset(unittest.TestCase):\n",
    "    def setUp(self):\n",
    "        self.dataset = BandaiDataset()\n",
    "        \n",
    "    def test_get_filenames(self):\n",
    "        self.setUp()\n",
    "        self.dataset.VIDEO_DIR = 'test/testfolder/'\n",
    "        outfile = 'test/filenames.txt'\n",
    "        self.dataset.get_filenames(outfile)\n",
    "\n",
    "        self.assertEqual(self.dataset.filelist, [\"dataset-1_walk_not-confident_001\",\"dataset-1_walk_sad_002\"])\n",
    "\n",
    "\n"
   ]
  },
  {
   "cell_type": "code",
   "execution_count": 34,
   "metadata": {},
   "outputs": [],
   "source": [
    "test = TestBandaiDataset()\n",
    "test.test_get_filenames()"
   ]
  }
 ],
 "metadata": {
  "kernelspec": {
   "display_name": "assignment-envrionment",
   "language": "python",
   "name": "python3"
  },
  "language_info": {
   "codemirror_mode": {
    "name": "ipython",
    "version": 3
   },
   "file_extension": ".py",
   "mimetype": "text/x-python",
   "name": "python",
   "nbconvert_exporter": "python",
   "pygments_lexer": "ipython3",
   "version": "3.11.7"
  },
  "orig_nbformat": 4
 },
 "nbformat": 4,
 "nbformat_minor": 2
}
