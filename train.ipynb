{
 "cells": [
  {
   "cell_type": "code",
   "execution_count": 3,
   "metadata": {},
   "outputs": [],
   "source": [
    "import torch\n",
    "import torch.nn as nn\n",
    "from torch.optim import SGD\n",
    "from torch.optim.lr_scheduler import ExponentialLR\n",
    "from torch.utils.tensorboard import SummaryWriter\n",
    "import Model.mymodel as mymodel"
   ]
  },
  {
   "cell_type": "code",
   "execution_count": 4,
   "metadata": {},
   "outputs": [
    {
     "name": "stdout",
     "output_type": "stream",
     "text": [
      "The history saving thread hit an unexpected error (OperationalError('disk I/O error')).History will not be written to the database.\n"
     ]
    }
   ],
   "source": [
    "set_frame = 50\n",
    "\n",
    "epochs = 60\n",
    "batch_sz = 10\n",
    "checkpoint_frequency = 3\n",
    "learning_rate = 0.00005\n",
    "gamma = 0.5\n",
    "\n",
    "\n",
    "DEVICE = torch.device(\"cuda\" if torch.cuda.is_available() else \"cpu\")\n",
    "\n",
    "train_dl, val_dl, test_dl = mymodel.load_data()\n",
    "\n",
    "dataloaders = {\n",
    "    'train' : train_dl,\n",
    "    'val' : val_dl,\n",
    "    'test' : test_dl\n",
    "}\n",
    "\n",
    "\n",
    "\n",
    "network = mymodel.get_simple_conv_net()\n",
    "network = network.to(DEVICE)\n",
    "\n",
    "optim = SGD(network.parameters(), lr=learning_rate)\n",
    "lr_sch = ExponentialLR(optim, gamma)\n",
    "\n",
    "writer = SummaryWriter()\n",
    "stopp = mymodel.EarlyStopper(patience = 5, tolerance = 2)"
   ]
  },
  {
   "cell_type": "code",
   "execution_count": null,
   "metadata": {},
   "outputs": [],
   "source": [
    "\n",
    "mymodel.train_model(network,epochs,dataloaders,optim,lr_sch,writer,stopp,checkpoint_frequency)"
   ]
  }
 ],
 "metadata": {
  "kernelspec": {
   "display_name": "assignment-envrionment",
   "language": "python",
   "name": "python3"
  },
  "language_info": {
   "codemirror_mode": {
    "name": "ipython",
    "version": 3
   },
   "file_extension": ".py",
   "mimetype": "text/x-python",
   "name": "python",
   "nbconvert_exporter": "python",
   "pygments_lexer": "ipython3",
   "version": "3.11.7"
  },
  "orig_nbformat": 4
 },
 "nbformat": 4,
 "nbformat_minor": 2
}
