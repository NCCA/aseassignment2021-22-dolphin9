{
 "cells": [
  {
   "cell_type": "code",
   "execution_count": 1,
   "metadata": {},
   "outputs": [],
   "source": [
    "import torch\n",
    "import torch.nn as nn\n",
    "from torch.optim import SGD\n",
    "from torch.optim.lr_scheduler import ExponentialLR\n",
    "from torch.utils.tensorboard import SummaryWriter\n",
    "import Model.mymodel as mymodel\n",
    "import Model.trainer as trainer"
   ]
  },
  {
   "cell_type": "code",
   "execution_count": 2,
   "metadata": {},
   "outputs": [
    {
     "name": "stdout",
     "output_type": "stream",
     "text": [
      "----------------------------------------------------------------\n",
      "        Layer (type)               Output Shape         Param #\n",
      "================================================================\n",
      "            Conv2d-1         [-1, 50, 640, 480]          62,550\n",
      "              ReLU-2         [-1, 50, 640, 480]               0\n",
      "         MaxPool2d-3         [-1, 50, 320, 240]               0\n",
      "            Conv2d-4         [-1, 50, 320, 240]          62,550\n",
      "              ReLU-5         [-1, 50, 320, 240]               0\n",
      "         MaxPool2d-6         [-1, 50, 160, 120]               0\n",
      "           Flatten-7               [-1, 960000]               0\n",
      "            Linear-8                  [-1, 128]     122,880,128\n",
      "              ReLU-9                  [-1, 128]               0\n",
      "           Linear-10                  [-1, 256]          33,024\n",
      "             ReLU-11                  [-1, 256]               0\n",
      "           Linear-12                   [-1, 64]          16,448\n",
      "             ReLU-13                   [-1, 64]               0\n",
      "           Linear-14                   [-1, 10]             650\n",
      "================================================================\n",
      "Total params: 123,055,350\n",
      "Trainable params: 123,055,350\n",
      "Non-trainable params: 0\n",
      "----------------------------------------------------------------\n",
      "Input size (MB): 58.59\n",
      "Forward/backward pass size (MB): 336.92\n",
      "Params size (MB): 469.42\n",
      "Estimated Total Size (MB): 864.93\n",
      "----------------------------------------------------------------\n"
     ]
    }
   ],
   "source": [
    "set_frame = 50\n",
    "\n",
    "epochs = 60\n",
    "batch_sz = 10\n",
    "checkpoint_frequency = 5\n",
    "learning_rate = 0.00005\n",
    "gamma = 0.5\n",
    "\n",
    "\n",
    "DEVICE = torch.device(\"cuda\" if torch.cuda.is_available() else \"cpu\")\n",
    "\n",
    "train_dl, val_dl, test_dl = trainer.load_data()\n",
    "\n",
    "dataloaders = {\n",
    "    'train' : train_dl,\n",
    "    'val' : val_dl,\n",
    "    'test' : test_dl\n",
    "}\n",
    "\n",
    "\n",
    "\n",
    "network = trainer.get_resnet()\n",
    "network = network.to(DEVICE)\n",
    "\n",
    "optim = SGD(network.parameters(), lr=learning_rate)\n",
    "lr_sch = ExponentialLR(optim, gamma)\n",
    "\n",
    "writer = SummaryWriter()\n",
    "stopp = trainer.EarlyStopper(patience = 5, tolerance = 2)"
   ]
  },
  {
   "cell_type": "code",
   "execution_count": 3,
   "metadata": {},
   "outputs": [
    {
     "name": "stdout",
     "output_type": "stream",
     "text": [
      "Train epoch[1/60], MiniBatch[24/24], Loss: 2.40885, Acc: 14.65517, LR: 0.00005\n",
      "Eval epoch[1/60], MiniBatch[4/4], Loss: 2.21706, Acc: 18.75000                \n",
      "Train epoch[2/60], MiniBatch[24/24], Loss: 2.27381, Acc: 12.93103, LR: 0.00003\n",
      "Eval epoch[2/60], MiniBatch[4/4], Loss: 2.56809, Acc: 6.25000                 \n",
      "Train epoch[3/60], MiniBatch[24/24], Loss: 2.45065, Acc: 18.96552, LR: 0.00001\n",
      "Eval epoch[3/60], MiniBatch[4/4], Loss: 2.52951, Acc: 6.25000, Epochs without improvement: 1\n",
      "Train epoch[4/60], MiniBatch[24/24], Loss: 2.49223, Acc: 18.96552, LR: 0.00001              \n",
      "Eval epoch[4/60], MiniBatch[4/4], Loss: 2.40403, Acc: 6.25000, Epochs without improvement: 2\n",
      "Train epoch[5/60], MiniBatch[24/24], Loss: 2.45136, Acc: 18.96552, LR: 0.00000              \n",
      "Eval epoch[5/60], MiniBatch[4/4], Loss: 2.22126, Acc: 6.25000, Epochs without improvement: 3\n",
      "Train epoch[6/60], MiniBatch[24/24], Loss: 2.72452, Acc: 18.96552, LR: 0.00000              \n",
      "Eval epoch[6/60], MiniBatch[4/4], Loss: 2.64611, Acc: 6.25000, Epochs without improvement: 4\n",
      "\n",
      "Validation accuracy has not improved in 5 epochs, stopping.\n"
     ]
    }
   ],
   "source": [
    "trainer.train_model(network,epochs,dataloaders,optim,lr_sch,writer,stopp,checkpoint_frequency)"
   ]
  }
 ],
 "metadata": {
  "kernelspec": {
   "display_name": "assignment-envrionment",
   "language": "python",
   "name": "python3"
  },
  "language_info": {
   "codemirror_mode": {
    "name": "ipython",
    "version": 3
   },
   "file_extension": ".py",
   "mimetype": "text/x-python",
   "name": "python",
   "nbconvert_exporter": "python",
   "pygments_lexer": "ipython3",
   "version": "3.11.7"
  },
  "orig_nbformat": 4
 },
 "nbformat": 4,
 "nbformat_minor": 2
}
