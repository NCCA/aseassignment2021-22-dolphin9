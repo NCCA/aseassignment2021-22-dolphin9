{
 "cells": [
  {
   "cell_type": "code",
   "execution_count": 1,
   "metadata": {},
   "outputs": [],
   "source": [
    "import torch\n",
    "import torch.nn as nn\n",
    "from torch.optim import SGD\n",
    "from torch.optim.lr_scheduler import ExponentialLR\n",
    "from torch.utils.tensorboard import SummaryWriter\n",
    "import Model.mymodel as mymodel\n",
    "import Model.trainer as trainer"
   ]
  },
  {
   "cell_type": "code",
   "execution_count": 2,
   "metadata": {},
   "outputs": [
    {
     "name": "stdout",
     "output_type": "stream",
     "text": [
      "----------------------------------------------------------------\n",
      "        Layer (type)               Output Shape         Param #\n",
      "================================================================\n",
      "            Conv2d-1         [-1, 50, 640, 480]          62,550\n",
      "              ReLU-2         [-1, 50, 640, 480]               0\n",
      "         MaxPool2d-3         [-1, 50, 320, 240]               0\n",
      "            Conv2d-4         [-1, 50, 320, 240]          62,550\n",
      "              ReLU-5         [-1, 50, 320, 240]               0\n",
      "         MaxPool2d-6         [-1, 50, 160, 120]               0\n",
      "           Flatten-7               [-1, 960000]               0\n",
      "            Linear-8                  [-1, 128]     122,880,128\n",
      "              ReLU-9                  [-1, 128]               0\n",
      "           Linear-10                  [-1, 256]          33,024\n",
      "             ReLU-11                  [-1, 256]               0\n",
      "           Linear-12                   [-1, 64]          16,448\n",
      "             ReLU-13                   [-1, 64]               0\n",
      "           Linear-14                   [-1, 10]             650\n",
      "================================================================\n",
      "Total params: 123,055,350\n",
      "Trainable params: 123,055,350\n",
      "Non-trainable params: 0\n",
      "----------------------------------------------------------------\n",
      "Input size (MB): 58.59\n",
      "Forward/backward pass size (MB): 336.92\n",
      "Params size (MB): 469.42\n",
      "Estimated Total Size (MB): 864.93\n",
      "----------------------------------------------------------------\n"
     ]
    }
   ],
   "source": [
    "set_frame = 50\n",
    "\n",
    "epochs = 60\n",
    "batch_sz = 10\n",
    "checkpoint_frequency = 5\n",
    "learning_rate = 0.0005\n",
    "gamma = 0.8\n",
    "\n",
    "\n",
    "DEVICE = torch.device(\"cuda\" if torch.cuda.is_available() else \"cpu\")\n",
    "\n",
    "train_dl, val_dl, test_dl = trainer.load_data()\n",
    "\n",
    "dataloaders = {\n",
    "    'train' : train_dl,\n",
    "    'val' : val_dl,\n",
    "    'test' : test_dl\n",
    "}\n",
    "\n",
    "\n",
    "\n",
    "network = trainer.get_simple_conv_net()\n",
    "network = network.to(DEVICE)\n",
    "\n",
    "optim = SGD(network.parameters(), lr=learning_rate)\n",
    "lr_sch = ExponentialLR(optim, gamma)\n",
    "\n",
    "writer = SummaryWriter()\n",
    "stopp = trainer.EarlyStopper(patience = 5, tolerance = 20)"
   ]
  },
  {
   "cell_type": "code",
   "execution_count": 3,
   "metadata": {},
   "outputs": [
    {
     "name": "stdout",
     "output_type": "stream",
     "text": [
      "Train epoch[1/60], MiniBatch[24/24], Loss: 1.94610, Acc: 13.79310, LR: 0.00050\n",
      "Eval epoch[1/60], MiniBatch[4/4], Loss: 2.12335, Acc: 12.50000                \n",
      "Train epoch[2/60], MiniBatch[24/24], Loss: 2.53817, Acc: 22.41379, LR: 0.00040\n",
      "Eval epoch[2/60], MiniBatch[4/4], Loss: 2.27455, Acc: 18.75000                \n",
      "Train epoch[3/60], MiniBatch[24/24], Loss: 2.28445, Acc: 35.34483, LR: 0.00032\n",
      "Eval epoch[3/60], MiniBatch[4/4], Loss: 2.79173, Acc: 18.75000                \n",
      "Train epoch[4/60], MiniBatch[24/24], Loss: 1.70572, Acc: 42.24138, LR: 0.00026\n",
      "Eval epoch[4/60], MiniBatch[4/4], Loss: 1.09005, Acc: 18.75000                \n",
      "Train epoch[5/60], MiniBatch[24/24], Loss: 1.93529, Acc: 49.13793, LR: 0.00020\n",
      "Eval epoch[5/60], MiniBatch[4/4], Loss: 0.84750, Acc: 31.25000                \n",
      "Train epoch[6/60], MiniBatch[24/24], Loss: 1.78582, Acc: 50.86207, LR: 0.00016\n",
      "Eval epoch[6/60], MiniBatch[4/4], Loss: 2.63550, Acc: 31.25000                \n",
      "Train epoch[7/60], MiniBatch[24/24], Loss: 1.03096, Acc: 58.62069, LR: 0.00013\n",
      "Eval epoch[7/60], MiniBatch[4/4], Loss: 0.57750, Acc: 25.00000                \n",
      "Train epoch[8/60], MiniBatch[24/24], Loss: 0.41747, Acc: 67.24138, LR: 0.00010\n",
      "Eval epoch[8/60], MiniBatch[4/4], Loss: 2.43165, Acc: 25.00000, Epochs without improvement: 1\n",
      "Train epoch[9/60], MiniBatch[24/24], Loss: 0.11208, Acc: 71.55172, LR: 0.00008               \n",
      "Eval epoch[9/60], MiniBatch[4/4], Loss: 1.34617, Acc: 56.25000, Epochs without improvement: 2\n",
      "Train epoch[10/60], MiniBatch[24/24], Loss: 0.28251, Acc: 77.58621, LR: 0.00007              \n",
      "Eval epoch[10/60], MiniBatch[4/4], Loss: 3.01564, Acc: 25.00000                \n",
      "Train epoch[11/60], MiniBatch[24/24], Loss: 2.19812, Acc: 81.89655, LR: 0.00005\n",
      "Eval epoch[11/60], MiniBatch[4/4], Loss: 1.81284, Acc: 25.00000, Epochs without improvement: 1\n",
      "Train epoch[12/60], MiniBatch[24/24], Loss: 0.57879, Acc: 84.48276, LR: 0.00004               \n",
      "Eval epoch[12/60], MiniBatch[4/4], Loss: 0.28145, Acc: 37.50000, Epochs without improvement: 2\n",
      "Train epoch[13/60], MiniBatch[24/24], Loss: 1.58939, Acc: 84.48276, LR: 0.00003               \n",
      "Eval epoch[13/60], MiniBatch[4/4], Loss: 0.45736, Acc: 43.75000, Epochs without improvement: 3\n",
      "Train epoch[14/60], MiniBatch[24/24], Loss: 0.77234, Acc: 91.37931, LR: 0.00003               \n",
      "Eval epoch[14/60], MiniBatch[4/4], Loss: 1.93907, Acc: 50.00000, Epochs without improvement: 4\n",
      "\n",
      "Validation accuracy has not improved in 5 epochs, stopping.\n"
     ]
    }
   ],
   "source": [
    "writer = trainer.train_model(network,epochs,dataloaders,optim,lr_sch,writer,stopp,checkpoint_frequency)"
   ]
  },
  {
   "cell_type": "code",
   "execution_count": null,
   "metadata": {},
   "outputs": [],
   "source": []
  }
 ],
 "metadata": {
  "kernelspec": {
   "display_name": "assignment-envrionment",
   "language": "python",
   "name": "python3"
  },
  "language_info": {
   "codemirror_mode": {
    "name": "ipython",
    "version": 3
   },
   "file_extension": ".py",
   "mimetype": "text/x-python",
   "name": "python",
   "nbconvert_exporter": "python",
   "pygments_lexer": "ipython3",
   "version": "3.11.7"
  },
  "orig_nbformat": 4
 },
 "nbformat": 4,
 "nbformat_minor": 2
}
